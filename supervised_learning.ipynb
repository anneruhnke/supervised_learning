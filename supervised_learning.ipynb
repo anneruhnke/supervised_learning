{
 "cells": [
  {
   "cell_type": "markdown",
   "id": "friendly-composition",
   "metadata": {},
   "source": [
    "# Supervised Learning"
   ]
  },
  {
   "cell_type": "code",
   "execution_count": 2,
   "id": "equal-ordinary",
   "metadata": {},
   "outputs": [],
   "source": [
    "# Use no show analysis data to predict who shows up to appointment"
   ]
  },
  {
   "cell_type": "code",
   "execution_count": 3,
   "id": "thermal-interest",
   "metadata": {},
   "outputs": [],
   "source": [
    "# Use different models"
   ]
  },
  {
   "cell_type": "code",
   "execution_count": null,
   "id": "fallen-joint",
   "metadata": {},
   "outputs": [],
   "source": [
    "# Load data"
   ]
  }
 ],
 "metadata": {
  "kernelspec": {
   "display_name": "Python [conda env:root] *",
   "language": "python",
   "name": "conda-root-py"
  },
  "language_info": {
   "codemirror_mode": {
    "name": "ipython",
    "version": 3
   },
   "file_extension": ".py",
   "mimetype": "text/x-python",
   "name": "python",
   "nbconvert_exporter": "python",
   "pygments_lexer": "ipython3",
   "version": "3.8.8"
  }
 },
 "nbformat": 4,
 "nbformat_minor": 5
}
